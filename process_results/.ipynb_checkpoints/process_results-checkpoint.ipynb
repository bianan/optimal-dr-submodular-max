{
 "cells": [
  {
   "cell_type": "markdown",
   "metadata": {},
   "source": [
    "## process ELBO results"
   ]
  },
  {
   "cell_type": "code",
   "execution_count": 48,
   "metadata": {},
   "outputs": [],
   "source": [
    "import pickle\n",
    "import numpy as np\n",
    "import sys"
   ]
  },
  {
   "cell_type": "code",
   "execution_count": 49,
   "metadata": {},
   "outputs": [],
   "source": [
    "pkl_path = './optf_1epoch_pa.pkl'\n",
    "optf_1epoch = pickle.load(open(pkl_path, 'rb'))"
   ]
  },
  {
   "cell_type": "code",
   "execution_count": 50,
   "metadata": {},
   "outputs": [],
   "source": [
    "one_epoch_solvers = [ 3, 11, 0]\n",
    "Ds = (2, 3, 10)"
   ]
  },
  {
   "cell_type": "code",
   "execution_count": 51,
   "metadata": {},
   "outputs": [],
   "source": [
    "sys.path.append('../')\n",
    "from amazon_experiment_specifications import datasets, solver_names, \\\n",
    "amazon_categories, amazon_ns,\\\n",
    "plot_opt, data_name\n",
    "\n"
   ]
  },
  {
   "cell_type": "code",
   "execution_count": 52,
   "metadata": {},
   "outputs": [
    {
     "data": {
      "text/plain": [
       "(13, 3, 13)"
      ]
     },
     "execution_count": 52,
     "metadata": {},
     "output_type": "execute_result"
    }
   ],
   "source": [
    "mean = np.nanmean(optf_1epoch, axis=3)\n",
    "std = np.nanstd(optf_1epoch, axis=3)\n",
    "mean.shape \n",
    "\n",
    "# cate, D, solver_id, fold\n",
    "# optf_1epoch.shape"
   ]
  },
  {
   "cell_type": "code",
   "execution_count": 53,
   "metadata": {
    "scrolled": true
   },
   "outputs": [
    {
     "name": "stdout",
     "output_type": "stream",
     "text": [
      "furniture, D: 2, n: 32\n",
      "\t Submodular-DoubleGreedy, mean: 2.078, std: 0.091\n",
      "\t BSCB, mean: 2.771, std: 0.123\n",
      "\t DR-DoubleGreedy, mean: 3.035, std: 0.059\n",
      "furniture, D: 3, n: 32\n",
      "\t Submodular-DoubleGreedy, mean: 1.835, std: 0.156\n",
      "\t BSCB, mean: 2.842, std: 0.128\n",
      "\t DR-DoubleGreedy, mean: 3.026, std: 0.099\n",
      "furniture, D: 10, n: 32\n",
      "\t Submodular-DoubleGreedy, mean: 1.375, std: 0.194\n",
      "\t BSCB, mean: 2.951, std: 0.161\n",
      "\t DR-DoubleGreedy, mean: 2.917, std: 0.103\n",
      "media, D: 2, n: 58\n",
      "\t Submodular-DoubleGreedy, mean: 3.221, std: 0.066\n",
      "\t BSCB, mean: 3.309, std: 0.055\n",
      "\t DR-DoubleGreedy, mean: 3.493, std: 0.051\n",
      "media, D: 3, n: 58\n",
      "\t Submodular-DoubleGreedy, mean: 3.276, std: 0.082\n",
      "\t BSCB, mean: 3.492, std: 0.083\n",
      "\t DR-DoubleGreedy, mean: 3.712, std: 0.079\n",
      "media, D: 10, n: 58\n",
      "\t Submodular-DoubleGreedy, mean: 2.840, std: 0.183\n",
      "\t BSCB, mean: 3.894, std: 0.122\n",
      "\t DR-DoubleGreedy, mean: 3.924, std: 0.114\n",
      "diaper, D: 2, n: 100\n",
      "\t Submodular-DoubleGreedy, mean: 3.500, std: 0.058\n",
      "\t BSCB, mean: 3.517, std: 0.058\n",
      "\t DR-DoubleGreedy, mean: 3.636, std: 0.043\n",
      "diaper, D: 3, n: 100\n",
      "\t Submodular-DoubleGreedy, mean: 3.739, std: 0.080\n",
      "\t BSCB, mean: 3.753, std: 0.065\n",
      "\t DR-DoubleGreedy, mean: 3.974, std: 0.065\n",
      "diaper, D: 10, n: 100\n",
      "\t Submodular-DoubleGreedy, mean: 3.423, std: 0.110\n",
      "\t BSCB, mean: 4.150, std: 0.120\n",
      "\t DR-DoubleGreedy, mean: 4.203, std: 0.086\n",
      "feeding, D: 2, n: 100\n",
      "\t Submodular-DoubleGreedy, mean: 3.942, std: 0.041\n",
      "\t BSCB, mean: 3.808, std: 0.024\n",
      "\t DR-DoubleGreedy, mean: 3.970, std: 0.036\n",
      "feeding, D: 3, n: 100\n",
      "\t Submodular-DoubleGreedy, mean: 4.333, std: 0.031\n",
      "\t BSCB, mean: 4.095, std: 0.032\n",
      "\t DR-DoubleGreedy, mean: 4.390, std: 0.031\n",
      "feeding, D: 10, n: 100\n",
      "\t Submodular-DoubleGreedy, mean: 4.611, std: 0.053\n",
      "\t BSCB, mean: 4.553, std: 0.079\n",
      "\t DR-DoubleGreedy, mean: 4.860, std: 0.056\n",
      "gear, D: 2, n: 100\n",
      "\t Submodular-DoubleGreedy, mean: 3.311, std: 0.046\n",
      "\t BSCB, mean: 3.150, std: 0.037\n",
      "\t DR-DoubleGreedy, mean: 3.430, std: 0.040\n",
      "gear, D: 3, n: 100\n",
      "\t Submodular-DoubleGreedy, mean: 3.538, std: 0.048\n",
      "\t BSCB, mean: 3.347, std: 0.045\n",
      "\t DR-DoubleGreedy, mean: 3.721, std: 0.050\n",
      "gear, D: 10, n: 100\n",
      "\t Submodular-DoubleGreedy, mean: 3.065, std: 0.083\n",
      "\t BSCB, mean: 3.550, std: 0.050\n",
      "\t DR-DoubleGreedy, mean: 3.670, std: 0.067\n",
      "bedding, D: 2, n: 100\n",
      "\t Submodular-DoubleGreedy, mean: 3.406, std: 0.080\n",
      "\t BSCB, mean: 3.374, std: 0.088\n",
      "\t DR-DoubleGreedy, mean: 3.620, std: 0.062\n",
      "bedding, D: 3, n: 100\n",
      "\t Submodular-DoubleGreedy, mean: 3.648, std: 0.106\n",
      "\t BSCB, mean: 3.564, std: 0.083\n",
      "\t DR-DoubleGreedy, mean: 3.876, std: 0.081\n",
      "bedding, D: 10, n: 100\n",
      "\t Submodular-DoubleGreedy, mean: 3.355, std: 0.161\n",
      "\t BSCB, mean: 3.799, std: 0.144\n",
      "\t DR-DoubleGreedy, mean: 3.912, std: 0.082\n",
      "apparel, D: 2, n: 100\n",
      "\t Submodular-DoubleGreedy, mean: 3.560, std: 0.094\n",
      "\t BSCB, mean: 3.527, std: 0.046\n",
      "\t DR-DoubleGreedy, mean: 3.784, std: 0.059\n",
      "apparel, D: 3, n: 100\n",
      "\t Submodular-DoubleGreedy, mean: 3.878, std: 0.092\n",
      "\t BSCB, mean: 3.755, std: 0.062\n",
      "\t DR-DoubleGreedy, mean: 4.140, std: 0.063\n",
      "apparel, D: 10, n: 100\n",
      "\t Submodular-DoubleGreedy, mean: 3.751, std: 0.087\n",
      "\t BSCB, mean: 4.084, std: 0.075\n",
      "\t DR-DoubleGreedy, mean: 4.425, std: 0.066\n",
      "bath, D: 2, n: 100\n",
      "\t Submodular-DoubleGreedy, mean: 2.957, std: 0.087\n",
      "\t BSCB, mean: 3.024, std: 0.032\n",
      "\t DR-DoubleGreedy, mean: 3.198, std: 0.056\n",
      "bath, D: 3, n: 100\n",
      "\t Submodular-DoubleGreedy, mean: 3.062, std: 0.085\n",
      "\t BSCB, mean: 3.195, std: 0.058\n",
      "\t DR-DoubleGreedy, mean: 3.448, std: 0.058\n",
      "bath, D: 10, n: 100\n",
      "\t Submodular-DoubleGreedy, mean: 2.497, std: 0.135\n",
      "\t BSCB, mean: 3.426, std: 0.076\n",
      "\t DR-DoubleGreedy, mean: 3.438, std: 0.089\n",
      "toys, D: 2, n: 62\n",
      "\t Submodular-DoubleGreedy, mean: 3.543, std: 0.047\n",
      "\t BSCB, mean: 3.454, std: 0.091\n",
      "\t DR-DoubleGreedy, mean: 3.856, std: 0.044\n",
      "toys, D: 3, n: 62\n",
      "\t Submodular-DoubleGreedy, mean: 3.362, std: 0.055\n",
      "\t BSCB, mean: 3.412, std: 0.070\n",
      "\t DR-DoubleGreedy, mean: 3.736, std: 0.051\n",
      "toys, D: 10, n: 62\n",
      "\t Submodular-DoubleGreedy, mean: 3.037, std: 0.138\n",
      "\t BSCB, mean: 3.706, std: 0.108\n",
      "\t DR-DoubleGreedy, mean: 3.859, std: 0.119\n",
      "health, D: 2, n: 62\n",
      "\t Submodular-DoubleGreedy, mean: 3.197, std: 0.067\n",
      "\t BSCB, mean: 3.174, std: 0.074\n",
      "\t DR-DoubleGreedy, mean: 3.516, std: 0.043\n",
      "health, D: 3, n: 62\n",
      "\t Submodular-DoubleGreedy, mean: 3.231, std: 0.055\n",
      "\t BSCB, mean: 3.306, std: 0.108\n",
      "\t DR-DoubleGreedy, mean: 3.707, std: 0.064\n",
      "health, D: 10, n: 62\n",
      "\t Submodular-DoubleGreedy, mean: 2.633, std: 0.115\n",
      "\t BSCB, mean: 3.508, std: 0.120\n",
      "\t DR-DoubleGreedy, mean: 3.675, std: 0.110\n",
      "strollers, D: 2, n: 40\n",
      "\t Submodular-DoubleGreedy, mean: 2.042, std: 0.181\n",
      "\t BSCB, mean: 2.829, std: 0.144\n",
      "\t DR-DoubleGreedy, mean: 2.928, std: 0.060\n",
      "strollers, D: 3, n: 40\n",
      "\t Submodular-DoubleGreedy, mean: 1.814, std: 0.264\n",
      "\t BSCB, mean: 2.958, std: 0.146\n",
      "\t DR-DoubleGreedy, mean: 2.978, std: 0.077\n",
      "strollers, D: 10, n: 40\n",
      "\t Submodular-DoubleGreedy, mean: 1.328, std: 0.544\n",
      "\t BSCB, mean: 3.065, std: 0.162\n",
      "\t DR-DoubleGreedy, mean: 2.910, std: 0.140\n",
      "safety, D: 2, n: 36\n",
      "\t Submodular-DoubleGreedy, mean: 1.934, std: 0.402\n",
      "\t BSCB, mean: 2.727, std: 0.212\n",
      "\t DR-DoubleGreedy, mean: 2.896, std: 0.098\n",
      "safety, D: 3, n: 36\n",
      "\t Submodular-DoubleGreedy, mean: 1.867, std: 0.453\n",
      "\t BSCB, mean: 2.830, std: 0.191\n",
      "\t DR-DoubleGreedy, mean: 2.970, std: 0.110\n",
      "safety, D: 10, n: 36\n",
      "\t Submodular-DoubleGreedy, mean: 1.546, std: 0.606\n",
      "\t BSCB, mean: 2.916, std: 0.191\n",
      "\t DR-DoubleGreedy, mean: 2.920, std: 0.149\n",
      "carseats, D: 2, n: 34\n",
      "\t Submodular-DoubleGreedy, mean: 2.089, std: 0.166\n",
      "\t BSCB, mean: 2.863, std: 0.090\n",
      "\t DR-DoubleGreedy, mean: 3.045, std: 0.069\n",
      "carseats, D: 3, n: 34\n",
      "\t Submodular-DoubleGreedy, mean: 1.890, std: 0.146\n",
      "\t BSCB, mean: 3.003, std: 0.110\n",
      "\t DR-DoubleGreedy, mean: 3.138, std: 0.082\n",
      "carseats, D: 10, n: 34\n",
      "\t Submodular-DoubleGreedy, mean: 1.390, std: 0.232\n",
      "\t BSCB, mean: 3.100, std: 0.140\n",
      "\t DR-DoubleGreedy, mean: 3.003, std: 0.157\n"
     ]
    }
   ],
   "source": [
    "# def get_mean_and_std(optf_1epoch):\n",
    "#     mean = np.nanmean(optf_1epoch, axis=3)\n",
    "#     std = np.nanstd(optf_1epoch, axis=3)\n",
    "for cate_id, cate in enumerate(amazon_categories):\n",
    "    for d_id, d in enumerate(Ds):\n",
    "        print('{0}, D: {1}, n: {2}'.format(cate, d, amazon_ns[cate_id]))\n",
    "        for solver_id in one_epoch_solvers:\n",
    "            print('\\t {}, mean: {:5.3f}, std: {:5.3f}'.format(solver_names[solver_id], \\\n",
    "                 mean[cate_id,d_id,solver_id], std[cate_id,d_id,solver_id]) )\n",
    "            "
   ]
  },
  {
   "cell_type": "code",
   "execution_count": null,
   "metadata": {},
   "outputs": [],
   "source": []
  }
 ],
 "metadata": {
  "kernelspec": {
   "display_name": "Python 3",
   "language": "python",
   "name": "python3"
  },
  "language_info": {
   "codemirror_mode": {
    "name": "ipython",
    "version": 3
   },
   "file_extension": ".py",
   "mimetype": "text/x-python",
   "name": "python",
   "nbconvert_exporter": "python",
   "pygments_lexer": "ipython3",
   "version": "3.6.5"
  }
 },
 "nbformat": 4,
 "nbformat_minor": 2
}
