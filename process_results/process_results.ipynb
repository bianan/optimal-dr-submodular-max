{
 "cells": [
  {
   "cell_type": "markdown",
   "metadata": {
    "toc": true
   },
   "source": [
    "<h1>Table of Contents<span class=\"tocSkip\"></span></h1>\n",
    "<div class=\"toc\"><ul class=\"toc-item\"><li><span><a href=\"#process-ELBO/PA-ELBO-results\" data-toc-modified-id=\"process-ELBO/PA-ELBO-results-1\"><span class=\"toc-item-num\">1&nbsp;&nbsp;</span>process ELBO/PA-ELBO results</a></span></li></ul></div>"
   ]
  },
  {
   "cell_type": "markdown",
   "metadata": {},
   "source": [
    "## process ELBO/PA-ELBO results\n",
    "\n",
    "After you have generated the experimental stats into the pkl file, you can\n",
    "load them in this notebook and calculate the mean and std.\n",
    "\n",
    "Two sample pkl files are copied in this folder. "
   ]
  },
  {
   "cell_type": "code",
   "execution_count": 72,
   "metadata": {},
   "outputs": [],
   "source": [
    "import pickle\n",
    "import numpy as np\n",
    "import sys"
   ]
  },
  {
   "cell_type": "code",
   "execution_count": 73,
   "metadata": {},
   "outputs": [
    {
     "data": {
      "text/plain": [
       "(13, 3, 14, 10)"
      ]
     },
     "execution_count": 73,
     "metadata": {},
     "output_type": "execute_result"
    }
   ],
   "source": [
    "# if processing PA-ELBO, load the pkl file ending with 'pa'\n",
    "# else: load the other pkl file\n",
    "pkl_path = './optf_1epoch.pkl'\n",
    "\n",
    "\n",
    "optf_1epoch = pickle.load(open(pkl_path, 'rb'))\n",
    "optf_1epoch.shape\n",
    "# optf_1epoch.shape should be (cate, D, solver_id, fold)"
   ]
  },
  {
   "cell_type": "code",
   "execution_count": 74,
   "metadata": {},
   "outputs": [
    {
     "data": {
      "text/plain": [
       "array([0.02832651, 0.0235455 , 0.02321601, 0.02342296, 0.02134371,\n",
       "       0.0326252 , 0.02179217, 0.02332163, 0.02814937, 0.02362275])"
      ]
     },
     "execution_count": 74,
     "metadata": {},
     "output_type": "execute_result"
    }
   ],
   "source": [
    "optf_1epoch[0, 0, 0, :]"
   ]
  },
  {
   "cell_type": "code",
   "execution_count": 75,
   "metadata": {},
   "outputs": [],
   "source": [
    "one_epoch_solvers = [ 3, 11, 0]\n",
    "Ds = (2, 3, 10)"
   ]
  },
  {
   "cell_type": "code",
   "execution_count": 76,
   "metadata": {},
   "outputs": [],
   "source": [
    "sys.path.append('../')\n",
    "from functions.exp_specs import solver_names, \\\n",
    "amazon_categories, amazon_ns,\\\n",
    "plot_opt, data_name"
   ]
  },
  {
   "cell_type": "code",
   "execution_count": 77,
   "metadata": {
    "scrolled": true
   },
   "outputs": [
    {
     "data": {
      "text/plain": [
       "(13, 3, 14)"
      ]
     },
     "execution_count": 77,
     "metadata": {},
     "output_type": "execute_result"
    }
   ],
   "source": [
    "mean = np.nanmean(optf_1epoch, axis=3)\n",
    "std = np.nanstd(optf_1epoch, axis=3)\n",
    "mean.shape "
   ]
  },
  {
   "cell_type": "markdown",
   "metadata": {},
   "source": [
    "The following will print the mean and std for each categories. \n",
    "If the results file does not contains a specific category, it will just print 0s."
   ]
  },
  {
   "cell_type": "code",
   "execution_count": 78,
   "metadata": {},
   "outputs": [
    {
     "name": "stdout",
     "output_type": "stream",
     "text": [
      "furniture, D: 2, n: 32\n",
      "\t Submodular-DoubleGreedy, mean: 0.051, std: 0.002\n",
      "\t BSCB, mean: 0.044, std: 0.001\n",
      "\t DR-DoubleGreedy, mean: 0.025, std: 0.003\n",
      "furniture, D: 3, n: 32\n",
      "\t Submodular-DoubleGreedy, mean: 0.065, std: 0.002\n",
      "\t BSCB, mean: 0.058, std: 0.002\n",
      "\t DR-DoubleGreedy, mean: 0.033, std: 0.003\n",
      "furniture, D: 10, n: 32\n",
      "\t Submodular-DoubleGreedy, mean: 0.182, std: 0.020\n",
      "\t BSCB, mean: 0.154, std: 0.005\n",
      "\t DR-DoubleGreedy, mean: 0.099, std: 0.010\n",
      "media, D: 2, n: 58\n",
      "\t Submodular-DoubleGreedy, mean: 0.165, std: 0.031\n",
      "\t BSCB, mean: 0.127, std: 0.005\n",
      "\t DR-DoubleGreedy, mean: 0.065, std: 0.004\n",
      "media, D: 3, n: 58\n",
      "\t Submodular-DoubleGreedy, mean: 0.214, std: 0.022\n",
      "\t BSCB, mean: 0.177, std: 0.010\n",
      "\t DR-DoubleGreedy, mean: 0.099, std: 0.021\n",
      "media, D: 10, n: 58\n",
      "\t Submodular-DoubleGreedy, mean: 0.521, std: 0.008\n",
      "\t BSCB, mean: 0.454, std: 0.011\n",
      "\t DR-DoubleGreedy, mean: 0.287, std: 0.019\n",
      "diaper, D: 2, n: 100\n",
      "\t Submodular-DoubleGreedy, mean: 0.417, std: 0.007\n",
      "\t BSCB, mean: 0.353, std: 0.011\n",
      "\t DR-DoubleGreedy, mean: 0.171, std: 0.005\n",
      "diaper, D: 3, n: 100\n",
      "\t Submodular-DoubleGreedy, mean: 0.552, std: 0.030\n",
      "\t BSCB, mean: 0.462, std: 0.016\n",
      "\t DR-DoubleGreedy, mean: 0.246, std: 0.007\n",
      "diaper, D: 10, n: 100\n",
      "\t Submodular-DoubleGreedy, mean: 1.504, std: 0.054\n",
      "\t BSCB, mean: 1.267, std: 0.025\n",
      "\t DR-DoubleGreedy, mean: 0.787, std: 0.028\n",
      "feeding, D: 2, n: 100\n",
      "\t Submodular-DoubleGreedy, mean: 0.413, std: 0.005\n",
      "\t BSCB, mean: 0.344, std: 0.006\n",
      "\t DR-DoubleGreedy, mean: 0.171, std: 0.006\n",
      "feeding, D: 3, n: 100\n",
      "\t Submodular-DoubleGreedy, mean: 0.544, std: 0.007\n",
      "\t BSCB, mean: 0.455, std: 0.004\n",
      "\t DR-DoubleGreedy, mean: 0.243, std: 0.004\n",
      "feeding, D: 10, n: 100\n",
      "\t Submodular-DoubleGreedy, mean: 1.469, std: 0.007\n",
      "\t BSCB, mean: 1.256, std: 0.016\n",
      "\t DR-DoubleGreedy, mean: 0.773, std: 0.008\n",
      "gear, D: 2, n: 100\n",
      "\t Submodular-DoubleGreedy, mean: 0.421, std: 0.010\n",
      "\t BSCB, mean: 0.345, std: 0.007\n",
      "\t DR-DoubleGreedy, mean: 0.172, std: 0.007\n",
      "gear, D: 3, n: 100\n",
      "\t Submodular-DoubleGreedy, mean: 0.543, std: 0.006\n",
      "\t BSCB, mean: 0.453, std: 0.002\n",
      "\t DR-DoubleGreedy, mean: 0.241, std: 0.005\n",
      "gear, D: 10, n: 100\n",
      "\t Submodular-DoubleGreedy, mean: 1.470, std: 0.009\n",
      "\t BSCB, mean: 1.250, std: 0.008\n",
      "\t DR-DoubleGreedy, mean: 0.770, std: 0.007\n",
      "bedding, D: 2, n: 100\n",
      "\t Submodular-DoubleGreedy, mean: 0.412, std: 0.006\n",
      "\t BSCB, mean: 0.339, std: 0.003\n",
      "\t DR-DoubleGreedy, mean: 0.166, std: 0.006\n",
      "bedding, D: 3, n: 100\n",
      "\t Submodular-DoubleGreedy, mean: 0.549, std: 0.010\n",
      "\t BSCB, mean: 0.455, std: 0.005\n",
      "\t DR-DoubleGreedy, mean: 0.243, std: 0.004\n",
      "bedding, D: 10, n: 100\n",
      "\t Submodular-DoubleGreedy, mean: 1.475, std: 0.010\n",
      "\t BSCB, mean: 1.249, std: 0.011\n",
      "\t DR-DoubleGreedy, mean: 0.772, std: 0.010\n",
      "apparel, D: 2, n: 100\n",
      "\t Submodular-DoubleGreedy, mean: 0.412, std: 0.003\n",
      "\t BSCB, mean: 0.343, std: 0.004\n",
      "\t DR-DoubleGreedy, mean: 0.168, std: 0.004\n",
      "apparel, D: 3, n: 100\n",
      "\t Submodular-DoubleGreedy, mean: 0.541, std: 0.001\n",
      "\t BSCB, mean: 0.453, std: 0.001\n",
      "\t DR-DoubleGreedy, mean: 0.241, std: 0.002\n",
      "apparel, D: 10, n: 100\n",
      "\t Submodular-DoubleGreedy, mean: 1.464, std: 0.010\n",
      "\t BSCB, mean: 1.246, std: 0.007\n",
      "\t DR-DoubleGreedy, mean: 0.767, std: 0.007\n",
      "bath, D: 2, n: 100\n",
      "\t Submodular-DoubleGreedy, mean: 0.415, std: 0.006\n",
      "\t BSCB, mean: 0.341, std: 0.003\n",
      "\t DR-DoubleGreedy, mean: 0.170, std: 0.009\n",
      "bath, D: 3, n: 100\n",
      "\t Submodular-DoubleGreedy, mean: 0.542, std: 0.003\n",
      "\t BSCB, mean: 0.452, std: 0.002\n",
      "\t DR-DoubleGreedy, mean: 0.240, std: 0.001\n",
      "bath, D: 10, n: 100\n",
      "\t Submodular-DoubleGreedy, mean: 1.466, std: 0.011\n",
      "\t BSCB, mean: 1.245, std: 0.010\n",
      "\t DR-DoubleGreedy, mean: 0.765, std: 0.007\n",
      "toys, D: 2, n: 62\n",
      "\t Submodular-DoubleGreedy, mean: 0.167, std: 0.004\n",
      "\t BSCB, mean: 0.140, std: 0.001\n",
      "\t DR-DoubleGreedy, mean: 0.071, std: 0.004\n",
      "toys, D: 3, n: 62\n",
      "\t Submodular-DoubleGreedy, mean: 0.226, std: 0.007\n",
      "\t BSCB, mean: 0.189, std: 0.005\n",
      "\t DR-DoubleGreedy, mean: 0.106, std: 0.006\n",
      "toys, D: 10, n: 62\n",
      "\t Submodular-DoubleGreedy, mean: 0.584, std: 0.002\n",
      "\t BSCB, mean: 0.501, std: 0.005\n",
      "\t DR-DoubleGreedy, mean: 0.311, std: 0.006\n",
      "health, D: 2, n: 62\n",
      "\t Submodular-DoubleGreedy, mean: 0.167, std: 0.003\n",
      "\t BSCB, mean: 0.139, std: 0.001\n",
      "\t DR-DoubleGreedy, mean: 0.070, std: 0.002\n",
      "health, D: 3, n: 62\n",
      "\t Submodular-DoubleGreedy, mean: 0.230, std: 0.015\n",
      "\t BSCB, mean: 0.192, std: 0.010\n",
      "\t DR-DoubleGreedy, mean: 0.106, std: 0.007\n",
      "health, D: 10, n: 62\n",
      "\t Submodular-DoubleGreedy, mean: 0.583, std: 0.005\n",
      "\t BSCB, mean: 0.499, std: 0.004\n",
      "\t DR-DoubleGreedy, mean: 0.310, std: 0.004\n",
      "strollers, D: 2, n: 40\n",
      "\t Submodular-DoubleGreedy, mean: 0.076, std: 0.004\n",
      "\t BSCB, mean: 0.065, std: 0.001\n",
      "\t DR-DoubleGreedy, mean: 0.034, std: 0.003\n",
      "strollers, D: 3, n: 40\n",
      "\t Submodular-DoubleGreedy, mean: 0.097, std: 0.001\n",
      "\t BSCB, mean: 0.084, std: 0.001\n",
      "\t DR-DoubleGreedy, mean: 0.047, std: 0.003\n",
      "strollers, D: 10, n: 40\n",
      "\t Submodular-DoubleGreedy, mean: 0.265, std: 0.006\n",
      "\t BSCB, mean: 0.225, std: 0.005\n",
      "\t DR-DoubleGreedy, mean: 0.142, std: 0.006\n",
      "safety, D: 2, n: 36\n",
      "\t Submodular-DoubleGreedy, mean: 0.063, std: 0.004\n",
      "\t BSCB, mean: 0.055, std: 0.004\n",
      "\t DR-DoubleGreedy, mean: 0.028, std: 0.001\n",
      "safety, D: 3, n: 36\n",
      "\t Submodular-DoubleGreedy, mean: 0.080, std: 0.001\n",
      "\t BSCB, mean: 0.069, std: 0.001\n",
      "\t DR-DoubleGreedy, mean: 0.038, std: 0.002\n",
      "safety, D: 10, n: 36\n",
      "\t Submodular-DoubleGreedy, mean: 0.216, std: 0.007\n",
      "\t BSCB, mean: 0.190, std: 0.008\n",
      "\t DR-DoubleGreedy, mean: 0.119, std: 0.012\n",
      "carseats, D: 2, n: 34\n",
      "\t Submodular-DoubleGreedy, mean: 0.055, std: 0.001\n",
      "\t BSCB, mean: 0.049, std: 0.003\n",
      "\t DR-DoubleGreedy, mean: 0.026, std: 0.003\n",
      "carseats, D: 3, n: 34\n",
      "\t Submodular-DoubleGreedy, mean: 0.072, std: 0.000\n",
      "\t BSCB, mean: 0.065, std: 0.003\n",
      "\t DR-DoubleGreedy, mean: 0.034, std: 0.001\n",
      "carseats, D: 10, n: 34\n",
      "\t Submodular-DoubleGreedy, mean: 0.196, std: 0.007\n",
      "\t BSCB, mean: 0.171, std: 0.006\n",
      "\t DR-DoubleGreedy, mean: 0.106, std: 0.005\n"
     ]
    }
   ],
   "source": [
    "# def get_mean_and_std(optf_1epoch):\n",
    "#     mean = np.nanmean(optf_1epoch, axis=3)\n",
    "#     std = np.nanstd(optf_1epoch, axis=3)\n",
    "for cate_id, cate in enumerate(amazon_categories):\n",
    "    for d_id, d in enumerate(Ds):\n",
    "        print('{0}, D: {1}, n: {2}'.format(cate, d, amazon_ns[cate_id]))\n",
    "        for solver_id in one_epoch_solvers:\n",
    "            print('\\t {}, mean: {:5.3f}, std: {:5.3f}'.format(solver_names[solver_id], \\\n",
    "                 mean[cate_id,d_id,solver_id], std[cate_id,d_id,solver_id]) )\n",
    "            "
   ]
  },
  {
   "cell_type": "code",
   "execution_count": null,
   "metadata": {},
   "outputs": [],
   "source": []
  }
 ],
 "metadata": {
  "kernelspec": {
   "display_name": "Python 3",
   "language": "python",
   "name": "python3"
  },
  "language_info": {
   "codemirror_mode": {
    "name": "ipython",
    "version": 3
   },
   "file_extension": ".py",
   "mimetype": "text/x-python",
   "name": "python",
   "nbconvert_exporter": "python",
   "pygments_lexer": "ipython3",
   "version": "3.6.7"
  },
  "toc": {
   "base_numbering": 1,
   "nav_menu": {},
   "number_sections": true,
   "sideBar": true,
   "skip_h1_title": false,
   "title_cell": "Table of Contents",
   "title_sidebar": "ToC",
   "toc_cell": true,
   "toc_position": {},
   "toc_section_display": true,
   "toc_window_display": false
  }
 },
 "nbformat": 4,
 "nbformat_minor": 2
}
